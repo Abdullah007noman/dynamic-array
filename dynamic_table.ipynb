{
  "nbformat": 4,
  "nbformat_minor": 0,
  "metadata": {
    "colab": {
      "provenance": []
    },
    "kernelspec": {
      "name": "python3",
      "display_name": "Python 3"
    },
    "language_info": {
      "name": "python"
    }
  },
  "cells": [
    {
      "cell_type": "code",
      "execution_count": 1,
      "metadata": {
        "colab": {
          "base_uri": "https://localhost:8080/"
        },
        "id": "0YAVMwdE1-9M",
        "outputId": "fe47ca62-d62d-4ce1-ee34-4fc4a26c028a"
      },
      "outputs": [
        {
          "output_type": "stream",
          "name": "stdout",
          "text": [
            "Initial state: size = 0 items = 0\n",
            "Insert 0: size = 1, items = 1, load factor = 1.00\n",
            "Insert 1: size = 2, items = 2, load factor = 1.00\n",
            "Insert 2: size = 4, items = 3, load factor = 0.75\n",
            "Insert 3: size = 4, items = 4, load factor = 1.00\n",
            "Insert 4: size = 8, items = 5, load factor = 0.62\n",
            "Insert 5: size = 8, items = 6, load factor = 0.75\n",
            "Insert 6: size = 8, items = 7, load factor = 0.88\n",
            "Insert 7: size = 8, items = 8, load factor = 1.00\n",
            "Insert 8: size = 16, items = 9, load factor = 0.56\n",
            "Insert 9: size = 16, items = 10, load factor = 0.62\n",
            "Insert 10: size = 16, items = 11, load factor = 0.69\n",
            "Insert 11: size = 16, items = 12, load factor = 0.75\n",
            "Insert 12: size = 16, items = 13, load factor = 0.81\n",
            "Insert 13: size = 16, items = 14, load factor = 0.88\n",
            "Insert 14: size = 16, items = 15, load factor = 0.94\n",
            "Insert 15: size = 16, items = 16, load factor = 1.00\n",
            "Insert 16: size = 32, items = 17, load factor = 0.53\n",
            "Insert 17: size = 32, items = 18, load factor = 0.56\n",
            "Insert 18: size = 32, items = 19, load factor = 0.59\n",
            "Insert 19: size = 32, items = 20, load factor = 0.62\n",
            "Delete 19: size = 32, items = 19, load factor = 0.59\n",
            "Delete 18: size = 32, items = 18, load factor = 0.56\n",
            "Delete 17: size = 32, items = 17, load factor = 0.53\n",
            "Delete 16: size = 32, items = 16, load factor = 0.50\n",
            "Delete 15: size = 32, items = 15, load factor = 0.47\n",
            "Delete 14: size = 32, items = 14, load factor = 0.44\n",
            "Delete 13: size = 32, items = 13, load factor = 0.41\n",
            "Delete 12: size = 32, items = 12, load factor = 0.38\n",
            "Delete 11: size = 32, items = 11, load factor = 0.34\n",
            "Delete 10: size = 32, items = 10, load factor = 0.31\n",
            "Delete 9: size = 32, items = 9, load factor = 0.28\n",
            "Delete 8: size = 16, items = 8, load factor = 0.50\n",
            "Delete 7: size = 16, items = 7, load factor = 0.44\n",
            "Delete 6: size = 16, items = 6, load factor = 0.38\n",
            "Delete 5: size = 16, items = 5, load factor = 0.31\n"
          ]
        }
      ],
      "source": [
        "class DynamicTable:\n",
        "    def __init__(self):\n",
        "        self.size = 0       # Current size of the table (number of slots)\n",
        "        self.num_items = 0  # Number of items currently stored\n",
        "        self.table = []     # The actual table\n",
        "\n",
        "    def table_insert(self, x):\n",
        "        \"\"\"Insert item x into the table.\"\"\"\n",
        "        # If table is full or empty, allocate new table of double size\n",
        "        if self.size == 0 or self.num_items == self.size:\n",
        "            self._resize(max(1, 2 * self.size))\n",
        "\n",
        "        # Insert the element into the table\n",
        "        self.table[self.num_items] = x\n",
        "        self.num_items += 1\n",
        "\n",
        "    def table_delete(self):\n",
        "        \"\"\"Delete and return the last item from the table.\"\"\"\n",
        "        if self.num_items == 0:\n",
        "            raise Exception(\"Table underflow\")\n",
        "\n",
        "        self.num_items -= 1\n",
        "        x = self.table[self.num_items]\n",
        "\n",
        "        # If the table is less than 1/4 full, resize to half the size\n",
        "        if self.num_items > 0 and self.num_items <= self.size // 4:\n",
        "            self._resize(self.size // 2)\n",
        "\n",
        "        return x\n",
        "\n",
        "    def _resize(self, new_size):\n",
        "        \"\"\"Resize the table to a new size.\"\"\"\n",
        "        new_table = [None] * new_size\n",
        "\n",
        "        # Copy elements from old table to new table\n",
        "        for i in range(min(self.num_items, new_size)):\n",
        "            new_table[i] = self.table[i]\n",
        "\n",
        "        self.table = new_table\n",
        "        self.size = new_size\n",
        "\n",
        "    def load_factor(self):\n",
        "        \"\"\"Return the load factor of the table.\"\"\"\n",
        "        if self.size == 0:\n",
        "            return 1.0\n",
        "        return self.num_items / self.size\n",
        "\n",
        "\n",
        "# Demonstration\n",
        "def demonstrate_dynamic_table():\n",
        "    table = DynamicTable()\n",
        "    print(\"Initial state:\", \"size =\", table.size, \"items =\", table.num_items)\n",
        "\n",
        "    operations = []\n",
        "    # Perform a series of insertions\n",
        "    for i in range(20):\n",
        "        table.table_insert(i)\n",
        "        operations.append(f\"Insert {i}: size = {table.size}, items = {table.num_items}, load factor = {table.load_factor():.2f}\")\n",
        "\n",
        "    # Perform a series of deletions\n",
        "    for i in range(15):\n",
        "        item = table.table_delete()\n",
        "        operations.append(f\"Delete {item}: size = {table.size}, items = {table.num_items}, load factor = {table.load_factor():.2f}\")\n",
        "\n",
        "    return operations\n",
        "\n",
        "\n",
        "if __name__ == \"__main__\":\n",
        "    operations = demonstrate_dynamic_table()\n",
        "    for op in operations:\n",
        "        print(op)"
      ]
    },
    {
      "cell_type": "code",
      "source": [],
      "metadata": {
        "id": "fCSRnIJe1_sH"
      },
      "execution_count": null,
      "outputs": []
    }
  ]
}